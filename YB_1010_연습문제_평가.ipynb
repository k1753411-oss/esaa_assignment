{
  "nbformat": 4,
  "nbformat_minor": 0,
  "metadata": {
    "colab": {
      "provenance": []
    },
    "kernelspec": {
      "name": "python3",
      "display_name": "Python 3"
    },
    "language_info": {
      "name": "python"
    }
  },
  "cells": [
    {
      "cell_type": "code",
      "metadata": {
        "id": "4Zqc4O_BfWqZ",
        "colab": {
          "base_uri": "https://localhost:8080/"
        },
        "outputId": "12342762-358f-48e7-eaaf-c6d5cf4e0ac3"
      },
      "source": [
        "# 모듈 및 데이터 로드\n",
        "from sklearn.datasets import load_breast_cancer\n",
        "from sklearn.linear_model import LogisticRegression\n",
        "\n",
        "data = load_breast_cancer()\n",
        "\n",
        "# x, y 데이터 생성\n",
        "X = data.data\n",
        "\n",
        "# 악성을 1, 양성을 0으로\n",
        "y = 1 - data.target\n",
        "\n",
        "# 특징으로 사용할 데이터를 평균으로 구분하는 10개 열로 축소\n",
        "X = X[:, :10]\n",
        "\n",
        "# 로지스틱 회귀 모델 생성\n",
        "model_lor = LogisticRegression(solver = 'lbfgs')\n",
        "model_lor.fit(X,y)\n",
        "y_pred = model_lor.predict(X)"
      ],
      "execution_count": 1,
      "outputs": [
        {
          "output_type": "stream",
          "name": "stderr",
          "text": [
            "/usr/local/lib/python3.12/dist-packages/sklearn/linear_model/_logistic.py:465: ConvergenceWarning: lbfgs failed to converge (status=1):\n",
            "STOP: TOTAL NO. OF ITERATIONS REACHED LIMIT.\n",
            "\n",
            "Increase the number of iterations (max_iter) or scale the data as shown in:\n",
            "    https://scikit-learn.org/stable/modules/preprocessing.html\n",
            "Please also refer to the documentation for alternative solver options:\n",
            "    https://scikit-learn.org/stable/modules/linear_model.html#logistic-regression\n",
            "  n_iter_i = _check_optimize_result(\n"
          ]
        }
      ]
    },
    {
      "cell_type": "markdown",
      "metadata": {
        "id": "faoAfc1ZgAcq"
      },
      "source": [
        "**오차 행렬(혼동 행렬) 생성**"
      ]
    },
    {
      "cell_type": "code",
      "metadata": {
        "id": "JdML8YM0gBtu",
        "colab": {
          "base_uri": "https://localhost:8080/"
        },
        "outputId": "e595f86c-e1a1-4d62-c7bc-e4fd796fc407"
      },
      "source": [
        "# 종속 변수와 예측 결과로 혼동 행렬 생성\n",
        "from sklearn.metrics import confusion_matrix\n",
        "\n",
        "# 혼동 행렬 생성\n",
        "cm = confusion_matrix(y, y_pred)\n",
        "\n",
        "print(\"혼동 행렬(오차 행렬):\")\n",
        "print(cm)"
      ],
      "execution_count": 2,
      "outputs": [
        {
          "output_type": "stream",
          "name": "stdout",
          "text": [
            "혼동 행렬(오차 행렬):\n",
            "[[337  20]\n",
            " [ 30 182]]\n"
          ]
        }
      ]
    },
    {
      "cell_type": "markdown",
      "metadata": {
        "id": "xbcK3rT-gFRk"
      },
      "source": [
        "**정확도의 개념을 설명하고, 정확도를 구해 해당 값을 통해 알 수 있는 점을 쓰시오.**"
      ]
    },
    {
      "cell_type": "markdown",
      "source": [
        "정확도(Accuracy)는 모델이 전체 데이터 중에서 얼마나 맞췄는가를 나타내는 가장 기본적인 성능 지표이다.\n",
        "즉, 예측이 실제 정답과 일치한 비율을 의미한다.\n",
        "\n",
        "공식: (정답으로 예측한 개수/ 전체 데이터 개수)\n",
        "\n",
        "전체 샘플 중 약 91.2%를 모델이 정확하게 예측했다. 양성과 악성 모두 포함해서 대부분의 데이터를 올바르게 분류했음을 알 수 있다."
      ],
      "metadata": {
        "id": "f3XgzEEKX6Cn"
      }
    },
    {
      "cell_type": "code",
      "metadata": {
        "id": "NLiXFuYvgI1e",
        "colab": {
          "base_uri": "https://localhost:8080/"
        },
        "outputId": "a1ea4f22-c783-4637-8ead-2c97d73e3e4d"
      },
      "source": [
        "from sklearn.metrics import accuracy_score\n",
        "\n",
        "accuracy = accuracy_score(y, y_pred)\n",
        "print(\"Accuracy:\", accuracy)\n"
      ],
      "execution_count": 4,
      "outputs": [
        {
          "output_type": "stream",
          "name": "stdout",
          "text": [
            "Accuracy: 0.9121265377855887\n"
          ]
        }
      ]
    },
    {
      "cell_type": "markdown",
      "metadata": {
        "id": "UYnVZS9igNNf"
      },
      "source": [
        "**정밀도의 개념을 설명하고, 정확도를 구해 해당 값을 통해 알 수 있는 점을 쓰시오.**"
      ]
    },
    {
      "cell_type": "markdown",
      "source": [
        "정밀도는 모델이 악성이라고 예측한 것들 중 실제로 악성인 비율이다.\n",
        "\n",
        "공식 : (TP / TP +FP)\n",
        "\n",
        "TP : 실제 악성인데 악성이라고 맞춘 경우\n",
        "FP : 실제 양성인데 악성이라고 잘못 예측한 경우\n",
        "\n",
        "정밀도 0.901은 모델이 악성이라고 예측했을 때, 약 90%는 실제 악성으로 정확히 맞췄다는 뜻이며,\n",
        "모델 예측이 충분히 신뢰할만 함을 알 수 있다."
      ],
      "metadata": {
        "id": "bgCcJbQAYHq2"
      }
    },
    {
      "cell_type": "code",
      "metadata": {
        "id": "j108NueLgMKF",
        "colab": {
          "base_uri": "https://localhost:8080/"
        },
        "outputId": "ba4cfbaf-8ad2-45d2-9d89-e39a4ab0904b"
      },
      "source": [
        "from sklearn.metrics import precision_score\n",
        "\n",
        "precision = precision_score(y, y_pred)\n",
        "print(\"Precision:\", precision)"
      ],
      "execution_count": 5,
      "outputs": [
        {
          "output_type": "stream",
          "name": "stdout",
          "text": [
            "Precision: 0.900990099009901\n"
          ]
        }
      ]
    },
    {
      "cell_type": "markdown",
      "metadata": {
        "id": "2-MBquNJZOM4"
      },
      "source": [
        "**재현율의 개념을 설명하고, 정확도를 구해 해당 값을 통해 알 수 있는 점을 쓰시오.**"
      ]
    },
    {
      "cell_type": "markdown",
      "source": [
        "재현율은 모델이 실제로 악성인 데이터 중에서, 악성이라고 올바르게 예측한 비율이다.\n",
        "\n",
        "공식 : (TP/TP+FN)\n",
        "\n",
        "재현율이 높을수록 모델은 악성(또는 관심 있는 클래스)을 놓치지 않는다는 의미한다. 따라서 이는 실제 악성 환자를 잘 잡아냄을 확인할 수 있다.\n",
        "\n",
        "재현율 0.8585는 모델이 실제 악성 샘플 중 약 86%를 올바르게 감지했지만, 일부(약 14%)는 놓쳤음을 알 수 있다."
      ],
      "metadata": {
        "id": "8eufkMklYi8V"
      }
    },
    {
      "cell_type": "code",
      "metadata": {
        "id": "uje4ivPvZPwv",
        "colab": {
          "base_uri": "https://localhost:8080/"
        },
        "outputId": "d3285dae-03f6-4823-c7af-ee47d9fbc0b4"
      },
      "source": [
        "from sklearn.metrics import recall_score\n",
        "\n",
        "recall = recall_score(y, y_pred)\n",
        "print(\"Recall:\", recall)"
      ],
      "execution_count": 7,
      "outputs": [
        {
          "output_type": "stream",
          "name": "stdout",
          "text": [
            "Recall: 0.8584905660377359\n"
          ]
        }
      ]
    },
    {
      "cell_type": "markdown",
      "metadata": {
        "id": "Cw1p3yjagUCH"
      },
      "source": [
        "**F1 score의 개념을 설명하고, 정확도를 구해 해당 값을 통해 알 수 있는 점을 쓰시오.**"
      ]
    },
    {
      "cell_type": "markdown",
      "source": [
        "정밀도와 재현율을 결합한 지표. F1 스코어는 정밀도와 재현율이 어느 한 쪽으로 치우치지 않는 수치를 나타낼 때 상대적으로 높은 값.\n",
        "\n",
        "공식 : F1 = 2 x (precision x recall)/(precision + recall)\n",
        "\n",
        "F1 = 0.8792는 모델이 악성과 양성을 잘 구분하며, 신뢰할 만한 예측 결과를 제공함을 알 수 있다."
      ],
      "metadata": {
        "id": "hJPIWuJyYxQU"
      }
    },
    {
      "cell_type": "code",
      "metadata": {
        "id": "hPdtYdoDgYgV",
        "colab": {
          "base_uri": "https://localhost:8080/"
        },
        "outputId": "e66ea0f2-7b05-45c6-da53-9d2eb8c46785"
      },
      "source": [
        "from sklearn.metrics import f1_score\n",
        "\n",
        "f1 = f1_score(y, y_pred)\n",
        "print(\"F1:\", f1)\n"
      ],
      "execution_count": 9,
      "outputs": [
        {
          "output_type": "stream",
          "name": "stdout",
          "text": [
            "F1: 0.8792270531400966\n"
          ]
        }
      ]
    },
    {
      "cell_type": "markdown",
      "metadata": {
        "id": "fzwIFsKOW5a1"
      },
      "source": [
        "**예측 확률(pred_proba) : 0으로 예측할 확률이 0.1보다 크면 y_pred2 에 넣는다 가정.**"
      ]
    },
    {
      "cell_type": "code",
      "metadata": {
        "id": "nw9dxOiPW40l",
        "colab": {
          "base_uri": "https://localhost:8080/"
        },
        "outputId": "e4933cc1-8f25-47a2-ffcc-d02df75ae69e"
      },
      "source": [
        "from sklearn.preprocessing import Binarizer\n",
        "\n",
        "# 예측 확률 구하기\n",
        "y_proba = model_lor.predict_proba(X)\n",
        "\n",
        "# 클래스 0(양성)일 확률만 추출\n",
        "y_proba_0 = y_proba[:, 0].reshape(-1, 1)  # 2D 배열로 변환\n",
        "\n",
        "# 기준(threshold) = 0.1\n",
        "# Binarizer는 threshold보다 큰 값을 1로, 이하면 0으로 바꾼다\n",
        "binarizer = Binarizer(threshold=0.1)\n",
        "y_pred2_temp = binarizer.transform(y_proba_0)\n",
        "\n",
        "# 지금은 1이 \"P(0)>0.1\"일 때라서 0/1이 반대로 되어 있음\n",
        "# 문제에서 0으로 예측할 확률이 0.1보다 크면 y_pred2=0 → 반전 필요\n",
        "y_pred2 = 1 - y_pred2_temp.flatten()\n",
        "\n",
        "print(y_pred2[:10])"
      ],
      "execution_count": 10,
      "outputs": [
        {
          "output_type": "stream",
          "name": "stdout",
          "text": [
            "[1. 1. 1. 0. 1. 0. 1. 0. 0. 0.]\n"
          ]
        }
      ]
    },
    {
      "cell_type": "code",
      "metadata": {
        "id": "Y-WrHrICYFB1",
        "colab": {
          "base_uri": "https://localhost:8080/"
        },
        "outputId": "926da80b-ab4c-464b-bd2a-ba51f95bf36a"
      },
      "source": [
        "# y과 y_pred2의 혼동행렬, 정확도, 정밀도, 재현율, f1 score 구하기\n",
        "from sklearn.metrics import confusion_matrix, accuracy_score, precision_score, recall_score, f1_score\n",
        "\n",
        "# 혼동행렬\n",
        "cm = confusion_matrix(y, y_pred2)\n",
        "print(\"혼동행렬(Confusion Matrix):\\n\", cm)\n",
        "\n",
        "# 정확도\n",
        "accuracy = accuracy_score(y, y_pred2)\n",
        "print(\"\\n정확도(Accuracy):\", accuracy)\n",
        "\n",
        "# 정밀도\n",
        "precision = precision_score(y, y_pred2)\n",
        "print(\"정밀도(Precision):\", precision)\n",
        "\n",
        "# 재현율\n",
        "recall = recall_score(y, y_pred2)\n",
        "print(\"재현율(Recall):\", recall)\n",
        "\n",
        "# F1 점수\n",
        "f1 = f1_score(y, y_pred2)\n",
        "print(\"F1 점수(F1 Score):\", f1)\n"
      ],
      "execution_count": 11,
      "outputs": [
        {
          "output_type": "stream",
          "name": "stdout",
          "text": [
            "혼동행렬(Confusion Matrix):\n",
            " [[356   1]\n",
            " [ 73 139]]\n",
            "\n",
            "정확도(Accuracy): 0.8699472759226714\n",
            "정밀도(Precision): 0.9928571428571429\n",
            "재현율(Recall): 0.6556603773584906\n",
            "F1 점수(F1 Score): 0.7897727272727273\n"
          ]
        }
      ]
    },
    {
      "cell_type": "markdown",
      "metadata": {
        "id": "itgf_OjsjU-R"
      },
      "source": [
        "**ROC 곡선 시각화**"
      ]
    },
    {
      "cell_type": "code",
      "metadata": {
        "id": "DW75xBokjXKy",
        "colab": {
          "base_uri": "https://localhost:8080/",
          "height": 564
        },
        "outputId": "1481eff5-d146-4e1f-c2ef-19ea97d5ec78"
      },
      "source": [
        "from sklearn.metrics import roc_curve\n",
        "import matplotlib.pyplot as plt\n",
        "\n",
        "# 예측 확률 (클래스 1, 악성일 확률)\n",
        "y_proba = model_lor.predict_proba(X)[:, 1]\n",
        "\n",
        "# ROC 곡선 계산\n",
        "fpr, tpr, thresholds = roc_curve(y, y_proba)\n",
        "\n",
        "# 시각화\n",
        "plt.figure(figsize=(7,6))\n",
        "plt.plot(fpr, tpr, color='blue', lw=2, label='ROC Curve')\n",
        "plt.plot([0,1], [0,1], color='gray', linestyle='--', label='Random Guess')\n",
        "plt.xlabel('False Positive Rate (1 - Specificity)')\n",
        "plt.ylabel('True Positive Rate (Recall)')\n",
        "plt.title('ROC Curve')\n",
        "plt.legend(loc='lower right')\n",
        "plt.grid(True)\n",
        "plt.show()"
      ],
      "execution_count": 12,
      "outputs": [
        {
          "output_type": "display_data",
          "data": {
            "text/plain": [
              "<Figure size 700x600 with 1 Axes>"
            ],
            "image/png": "[encoded data removed]"
          },
          "metadata": {}
        }
      ]
    },
    {
      "cell_type": "markdown",
      "metadata": {
        "id": "fL4as0YsWYD7"
      },
      "source": [
        "**ROC AUC 값을 구하고 해당 값을 통해 알 수 있는 점을 쓰시오.**"
      ]
    },
    {
      "cell_type": "markdown",
      "source": [
        "ROC AUC 값이 약 0.97인 것을 통해 모델이 악성과 양성을 거의 완벽하게 구분할 수 있음을 알 수 있다."
      ],
      "metadata": {
        "id": "cMPAcraPaIy8"
      }
    },
    {
      "cell_type": "code",
      "source": [
        "from sklearn.metrics import roc_auc_score\n",
        "\n",
        "# 예측 확률\n",
        "y_proba = model_lor.predict_proba(X)[:, 1]\n",
        "\n",
        "# AUC 계산\n",
        "auc_score = roc_auc_score(y, y_proba)\n",
        "print(\"ROC AUC:\", auc_score)\n"
      ],
      "metadata": {
        "colab": {
          "base_uri": "https://localhost:8080/"
        },
        "id": "06KQ-bPUaGNC",
        "outputId": "4df322ad-3b4a-49ec-c1b4-018bdd4aaede"
      },
      "execution_count": 15,
      "outputs": [
        {
          "output_type": "stream",
          "name": "stdout",
          "text": [
            "ROC AUC: 0.974076423022039\n"
          ]
        }
      ]
    }
  ]
}